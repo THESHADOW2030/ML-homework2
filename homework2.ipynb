{
 "cells": [
  {
   "cell_type": "markdown",
   "metadata": {},
   "source": [
    "# Animal classification\n",
    "https://www.kaggle.com/datasets/alessiocorrado99/animals10?resource=download\n",
    "\n",
    "This dataset contains 10 classes of animals. TIt contains about 28K medium quality animal images belonging to 10 categories: dog, cat, horse, spyder, butterfly, chicken, sheep, cow, squirrel, elephant.\n",
    "\n",
    "Each class has about 2k to 5k images."
   ]
  },
  {
   "cell_type": "code",
   "execution_count": 1,
   "metadata": {},
   "outputs": [
    {
     "name": "stderr",
     "output_type": "stream",
     "text": [
      "2023-01-03 12:10:15.709515: I tensorflow/core/platform/cpu_feature_guard.cc:193] This TensorFlow binary is optimized with oneAPI Deep Neural Network Library (oneDNN) to use the following CPU instructions in performance-critical operations:  AVX2 AVX512F AVX512_VNNI FMA\n",
      "To enable them in other operations, rebuild TensorFlow with the appropriate compiler flags.\n",
      "2023-01-03 12:10:16.170008: I tensorflow/core/util/util.cc:169] oneDNN custom operations are on. You may see slightly different numerical results due to floating-point round-off errors from different computation orders. To turn them off, set the environment variable `TF_ENABLE_ONEDNN_OPTS=0`.\n",
      "2023-01-03 12:10:16.326757: E tensorflow/stream_executor/cuda/cuda_blas.cc:2981] Unable to register cuBLAS factory: Attempting to register factory for plugin cuBLAS when one has already been registered\n",
      "2023-01-03 12:10:17.150791: W tensorflow/stream_executor/platform/default/dso_loader.cc:64] Could not load dynamic library 'libnvinfer.so.7'; dlerror: libnvinfer.so.7: cannot open shared object file: No such file or directory; LD_LIBRARY_PATH: :/home/theshadow/Documents/MLexercises/TES/lib/\n",
      "2023-01-03 12:10:17.150849: W tensorflow/stream_executor/platform/default/dso_loader.cc:64] Could not load dynamic library 'libnvinfer_plugin.so.7'; dlerror: libnvinfer_plugin.so.7: cannot open shared object file: No such file or directory; LD_LIBRARY_PATH: :/home/theshadow/Documents/MLexercises/TES/lib/\n",
      "2023-01-03 12:10:17.150854: W tensorflow/compiler/tf2tensorrt/utils/py_utils.cc:38] TF-TRT Warning: Cannot dlopen some TensorRT libraries. If you would like to use Nvidia GPU with TensorRT, please make sure the missing libraries mentioned above are installed properly.\n",
      "2023-01-03 12:10:18.585215: I tensorflow/core/platform/cpu_feature_guard.cc:193] This TensorFlow binary is optimized with oneAPI Deep Neural Network Library (oneDNN) to use the following CPU instructions in performance-critical operations:  AVX2 AVX512F AVX512_VNNI FMA\n",
      "To enable them in other operations, rebuild TensorFlow with the appropriate compiler flags.\n",
      "2023-01-03 12:10:18.616520: I tensorflow/stream_executor/cuda/cuda_gpu_executor.cc:980] successful NUMA node read from SysFS had negative value (-1), but there must be at least one NUMA node, so returning NUMA node zero\n",
      "2023-01-03 12:10:18.647890: I tensorflow/stream_executor/cuda/cuda_gpu_executor.cc:980] successful NUMA node read from SysFS had negative value (-1), but there must be at least one NUMA node, so returning NUMA node zero\n",
      "2023-01-03 12:10:18.648072: I tensorflow/stream_executor/cuda/cuda_gpu_executor.cc:980] successful NUMA node read from SysFS had negative value (-1), but there must be at least one NUMA node, so returning NUMA node zero\n"
     ]
    },
    {
     "name": "stdout",
     "output_type": "stream",
     "text": [
      "Num GPUs Available:  1\n"
     ]
    },
    {
     "name": "stderr",
     "output_type": "stream",
     "text": [
      "2023-01-03 12:10:19.397122: I tensorflow/stream_executor/cuda/cuda_gpu_executor.cc:980] successful NUMA node read from SysFS had negative value (-1), but there must be at least one NUMA node, so returning NUMA node zero\n",
      "2023-01-03 12:10:19.398016: I tensorflow/stream_executor/cuda/cuda_gpu_executor.cc:980] successful NUMA node read from SysFS had negative value (-1), but there must be at least one NUMA node, so returning NUMA node zero\n",
      "2023-01-03 12:10:19.398166: I tensorflow/stream_executor/cuda/cuda_gpu_executor.cc:980] successful NUMA node read from SysFS had negative value (-1), but there must be at least one NUMA node, so returning NUMA node zero\n",
      "2023-01-03 12:10:19.398285: I tensorflow/core/common_runtime/gpu/gpu_device.cc:1616] Created device /job:localhost/replica:0/task:0/device:GPU:0 with 4117 MB memory:  -> device: 0, name: NVIDIA GeForce RTX 3060 Laptop GPU, pci bus id: 0000:01:00.0, compute capability: 8.6\n",
      "2023-01-03 12:10:19.401125: I tensorflow/stream_executor/cuda/cuda_gpu_executor.cc:980] successful NUMA node read from SysFS had negative value (-1), but there must be at least one NUMA node, so returning NUMA node zero\n",
      "2023-01-03 12:10:19.401371: I tensorflow/stream_executor/cuda/cuda_gpu_executor.cc:980] successful NUMA node read from SysFS had negative value (-1), but there must be at least one NUMA node, so returning NUMA node zero\n",
      "2023-01-03 12:10:19.401463: I tensorflow/stream_executor/cuda/cuda_gpu_executor.cc:980] successful NUMA node read from SysFS had negative value (-1), but there must be at least one NUMA node, so returning NUMA node zero\n"
     ]
    }
   ],
   "source": [
    "import tensorflow  as  tf\n",
    "from  tensorflow  import  keras\n",
    "from tensorflow.keras.preprocessing.image import ImageDataGenerator\n",
    "\n",
    "from tensorflow.keras.layers import Conv2D, MaxPooling2D, Flatten, Dense, Dropout\n",
    "\n",
    "\n",
    "from tensorflow.compat.v1 import ConfigProto\n",
    "from tensorflow.compat.v1 import InteractiveSession\n",
    "from sklearn.model_selection import train_test_split\n",
    "import sklearn\n",
    "\n",
    "import numpy as  np\n",
    "import matplotlib.pyplot  as  plt\n",
    "import os\n",
    "import cv2\n",
    "import random\n",
    "import cv2 as cv\n",
    "import pandas  as  pd\n",
    "import tqdm as tqdm\n",
    "\n",
    "\n",
    "config = ConfigProto()\n",
    "config.gpu_options.allow_growth = True\n",
    "session = InteractiveSession(config=config)\n",
    "\n",
    "#print the number of GPU\n",
    "\n",
    "print ( \"Num GPUs Available: \" ,  len ( tf.config.experimental.list_physical_devices ( 'GPU' )))"
   ]
  },
  {
   "cell_type": "code",
   "execution_count": 7,
   "metadata": {},
   "outputs": [
    {
     "name": "stderr",
     "output_type": "stream",
     "text": [
      " 70%|███████   | 7/10 [00:03<00:01,  2.74it/s]libpng warning: iCCP: known incorrect sRGB profile\n",
      "libpng warning: iCCP: known incorrect sRGB profile\n",
      "libpng warning: iCCP: known incorrect sRGB profile\n",
      "libpng warning: iCCP: known incorrect sRGB profile\n",
      "libpng warning: iCCP: known incorrect sRGB profile\n",
      "libpng warning: iCCP: known incorrect sRGB profile\n",
      "100%|██████████| 10/10 [00:05<00:00,  1.91it/s]\n"
     ]
    },
    {
     "name": "stdout",
     "output_type": "stream",
     "text": [
      "(3200, 150, 150, 3)\n",
      "(3200, 10)\n",
      "(1000, 150, 150, 3)\n",
      "(1000, 10)\n",
      "(800, 150, 150, 3)\n",
      "(800, 10)\n"
     ]
    }
   ],
   "source": [
    "path = \"./dataset\"\n",
    "\n",
    "#for each folder in the dataset folder, split the data into training and test set\n",
    "\n",
    "train_x = []\n",
    "train_y = []\n",
    "test_x = []\n",
    "test_y = []\n",
    "\n",
    "dizionario = {'cane': 0, 'cavallo': 1, 'elefante': 2, 'farfalla': 3, 'gallina': 4, 'gatto': 5, 'mucca': 6, 'pecora': 7, 'ragno': 8, 'scoiattolo': 9}\n",
    "\n",
    "numSamplesPerClass = 500\n",
    "\n",
    "\n",
    "for folder in tqdm.tqdm(os.listdir(path)):\n",
    "    images = []\n",
    "    labels = []\n",
    "    cont = 0\n",
    "    for img in os.listdir(os.path.join(path, folder)):\n",
    "        if cont == numSamplesPerClass:\n",
    "            break\n",
    "        cont += 1\n",
    "        #the image is in color\n",
    "        img_array = cv2.imread(os.path.join(path, folder, img), cv2.IMREAD_COLOR)\n",
    "        #resize the image\n",
    "        new_array = cv2.resize(img_array, (150, 150))\n",
    "        #append the image to the list\n",
    "        images.append(new_array)\n",
    "        #append the label to the list\n",
    "        labels.append(dizionario[folder])\n",
    "    #split the data into training and test set\n",
    "    train_images, test_images, train_labels, test_labels = train_test_split(images, labels, test_size=0.2, random_state=42)\n",
    "    #append the training and test set to the list\n",
    "    train_x.extend(train_images)\n",
    "    train_y.extend(train_labels)\n",
    "    test_x.extend(test_images)\n",
    "    test_y.extend(test_labels)\n",
    "\n",
    "#convert the list to numpy array\n",
    "train_x = np.array(train_x)\n",
    "train_y = np.array(train_y)\n",
    "\n",
    "test_x = np.array(test_x)\n",
    "test_y = np.array(test_y)\n",
    "\n",
    "#map the label to the class name\n",
    "\n",
    "#rescale the data\n",
    "train_x = train_x / 255.0\n",
    "test_x = test_x / 255.0\n",
    "\n",
    "#split the training set into training and validation set\n",
    "train_x, val_x, train_y, val_y = train_test_split(train_x, train_y, test_size=0.2, random_state=42)\n",
    "\n",
    "#convert the labels to one hot encoding\n",
    "train_y = keras.utils.to_categorical(train_y, 10)\n",
    "test_y = keras.utils.to_categorical(test_y, 10)\n",
    "val_y = keras.utils.to_categorical(val_y, 10)\n",
    "\n",
    "\n",
    "print(train_x.shape)\n",
    "print(train_y.shape)\n",
    "print(test_x.shape)\n",
    "print(test_y.shape)\n",
    "print(val_x.shape)\n",
    "print(val_y.shape)\n",
    "\n",
    "\n",
    "\n",
    "\n",
    "\n",
    "\n",
    "\n",
    "\n",
    "#tempo di esecuzione: 1min 30sec\n"
   ]
  },
  {
   "cell_type": "code",
   "execution_count": 2,
   "metadata": {},
   "outputs": [
    {
     "name": "stdout",
     "output_type": "stream",
     "text": [
      "Found 20947 images belonging to 10 classes.\n",
      "Found 5232 images belonging to 10 classes.\n"
     ]
    }
   ],
   "source": [
    "path = \"./dataset\"\n",
    "\n",
    "#load the data from the dataset and use flow_from_directory and split the data into training and test set\n",
    "\n",
    "train_datagen = ImageDataGenerator(rescale=1./255,\n",
    "                                zoom_range=0.2,\n",
    "                                horizontal_flip=True,\n",
    "                                validation_split=0.2)\n",
    "\n",
    "\n",
    "train_generator = train_datagen.flow_from_directory(\n",
    "        path,\n",
    "        target_size=(300, 300),\n",
    "        batch_size=32,\n",
    "        class_mode='categorical',\n",
    "        subset='training')\n",
    "\n",
    "validation_generator = train_datagen.flow_from_directory(\n",
    "        path,\n",
    "        target_size=(300, 300),\n",
    "        batch_size=32,\n",
    "        class_mode='categorical',\n",
    "        subset='validation')\n",
    "\n",
    "\n",
    "\n"
   ]
  },
  {
   "cell_type": "code",
   "execution_count": 16,
   "metadata": {},
   "outputs": [
    {
     "name": "stdout",
     "output_type": "stream",
     "text": [
      "Model: \"model_1\"\n",
      "_________________________________________________________________\n",
      " Layer (type)                Output Shape              Param #   \n",
      "=================================================================\n",
      " input_2 (InputLayer)        [(None, 300, 300, 3)]     0         \n",
      "                                                                 \n",
      " block1_conv1 (Conv2D)       (None, 300, 300, 64)      1792      \n",
      "                                                                 \n",
      " block1_conv2 (Conv2D)       (None, 300, 300, 64)      36928     \n",
      "                                                                 \n",
      " block1_pool (MaxPooling2D)  (None, 150, 150, 64)      0         \n",
      "                                                                 \n",
      " block2_conv1 (Conv2D)       (None, 150, 150, 128)     73856     \n",
      "                                                                 \n",
      " block2_conv2 (Conv2D)       (None, 150, 150, 128)     147584    \n",
      "                                                                 \n",
      " block2_pool (MaxPooling2D)  (None, 75, 75, 128)       0         \n",
      "                                                                 \n",
      " block3_conv1 (Conv2D)       (None, 75, 75, 256)       295168    \n",
      "                                                                 \n",
      " block3_conv2 (Conv2D)       (None, 75, 75, 256)       590080    \n",
      "                                                                 \n",
      " block3_conv3 (Conv2D)       (None, 75, 75, 256)       590080    \n",
      "                                                                 \n",
      " block3_pool (MaxPooling2D)  (None, 37, 37, 256)       0         \n",
      "                                                                 \n",
      " block4_conv1 (Conv2D)       (None, 37, 37, 512)       1180160   \n",
      "                                                                 \n",
      " block4_conv2 (Conv2D)       (None, 37, 37, 512)       2359808   \n",
      "                                                                 \n",
      " block4_conv3 (Conv2D)       (None, 37, 37, 512)       2359808   \n",
      "                                                                 \n",
      " block4_pool (MaxPooling2D)  (None, 18, 18, 512)       0         \n",
      "                                                                 \n",
      " block5_conv1 (Conv2D)       (None, 18, 18, 512)       2359808   \n",
      "                                                                 \n",
      " block5_conv2 (Conv2D)       (None, 18, 18, 512)       2359808   \n",
      "                                                                 \n",
      " block5_conv3 (Conv2D)       (None, 18, 18, 512)       2359808   \n",
      "                                                                 \n",
      " block5_pool (MaxPooling2D)  (None, 9, 9, 512)         0         \n",
      "                                                                 \n",
      " sequential_5 (Sequential)   (None, 10)                10619658  \n",
      "                                                                 \n",
      "=================================================================\n",
      "Total params: 25,334,346\n",
      "Trainable params: 10,619,658\n",
      "Non-trainable params: 14,714,688\n",
      "_________________________________________________________________\n"
     ]
    }
   ],
   "source": [
    "base_model = keras.applications.VGG16(weights='imagenet', include_top=False, input_shape=(300, 300, 3))\n",
    "for layer in base_model.layers:\n",
    "    layer.trainable = False\n",
    "\n",
    "add_model = keras.Sequential()\n",
    "add_model.add(Flatten(input_shape=base_model.output_shape[1:]))\n",
    "add_model.add(Dense(256, activation='relu'))\n",
    "add_model.add(Dense(10, activation='softmax'))\n",
    "\n",
    "model = keras.Model(inputs=base_model.input, outputs=add_model(base_model.output))\n",
    "model.compile(loss='binary_crossentropy', optimizer=keras.optimizers.Adam(lr=1e-5), metrics=['accuracy'])\n",
    "\n",
    "model.summary()"
   ]
  },
  {
   "cell_type": "code",
   "execution_count": 17,
   "metadata": {},
   "outputs": [],
   "source": [
    "model.compile(loss='categorical_crossentropy', optimizer=keras.optimizers.Adam(lr=0.0001), metrics=['accuracy'])\n",
    "\n",
    "\n",
    "early_stopping = keras.callbacks.EarlyStopping(\n",
    "    monitor='val_accuracy',\n",
    "    min_delta=0.00005,\n",
    "    patience=5,\n",
    "    verbose=1,\n",
    "    restore_best_weights=True,\n",
    ")\n",
    "\n",
    "lr_scheduler = keras.callbacks.ReduceLROnPlateau(\n",
    "    monitor='val_accuracy',\n",
    "    factor=0.5,\n",
    "    patience=5,\n",
    "    min_lr=1e-7,\n",
    "    verbose=1,\n",
    ")\n",
    "\n",
    "\n",
    "callbacks = [\n",
    "    early_stopping,\n",
    "    lr_scheduler,\n",
    "]\n"
   ]
  },
  {
   "cell_type": "code",
   "execution_count": 18,
   "metadata": {},
   "outputs": [
    {
     "name": "stdout",
     "output_type": "stream",
     "text": [
      "Epoch 1/100\n",
      "655/655 [==============================] - 296s 452ms/step - loss: 0.7392 - accuracy: 0.7588 - val_loss: 0.5635 - val_accuracy: 0.8154 - lr: 1.0000e-04\n",
      "Epoch 2/100\n",
      "655/655 [==============================] - 301s 459ms/step - loss: 0.4452 - accuracy: 0.8542 - val_loss: 0.4707 - val_accuracy: 0.8440 - lr: 1.0000e-04\n",
      "Epoch 3/100\n",
      "655/655 [==============================] - 311s 474ms/step - loss: 0.3692 - accuracy: 0.8800 - val_loss: 0.4165 - val_accuracy: 0.8670 - lr: 1.0000e-04\n",
      "Epoch 4/100\n",
      "655/655 [==============================] - 306s 467ms/step - loss: 0.3108 - accuracy: 0.8968 - val_loss: 0.4186 - val_accuracy: 0.8675 - lr: 1.0000e-04\n",
      "Epoch 5/100\n",
      "655/655 [==============================] - 307s 468ms/step - loss: 0.2709 - accuracy: 0.9116 - val_loss: 0.4604 - val_accuracy: 0.8511 - lr: 1.0000e-04\n",
      "Epoch 6/100\n",
      "655/655 [==============================] - 306s 467ms/step - loss: 0.2433 - accuracy: 0.9203 - val_loss: 0.4285 - val_accuracy: 0.8630 - lr: 1.0000e-04\n",
      "Epoch 7/100\n",
      "655/655 [==============================] - 311s 474ms/step - loss: 0.2195 - accuracy: 0.9266 - val_loss: 0.4799 - val_accuracy: 0.8547 - lr: 1.0000e-04\n",
      "Epoch 8/100\n",
      "655/655 [==============================] - 303s 462ms/step - loss: 0.2009 - accuracy: 0.9344 - val_loss: 0.4446 - val_accuracy: 0.8647 - lr: 1.0000e-04\n",
      "Epoch 9/100\n",
      "655/655 [==============================] - 304s 463ms/step - loss: 0.1792 - accuracy: 0.9405 - val_loss: 0.4039 - val_accuracy: 0.8773 - lr: 1.0000e-04\n",
      "Epoch 10/100\n",
      "655/655 [==============================] - 287s 439ms/step - loss: 0.1598 - accuracy: 0.9485 - val_loss: 0.4461 - val_accuracy: 0.8695 - lr: 1.0000e-04\n",
      "Epoch 11/100\n",
      "655/655 [==============================] - 268s 409ms/step - loss: 0.1486 - accuracy: 0.9505 - val_loss: 0.4236 - val_accuracy: 0.8704 - lr: 1.0000e-04\n",
      "Epoch 12/100\n",
      "655/655 [==============================] - 294s 449ms/step - loss: 0.1430 - accuracy: 0.9525 - val_loss: 0.4210 - val_accuracy: 0.8769 - lr: 1.0000e-04\n",
      "Epoch 13/100\n",
      "655/655 [==============================] - 305s 465ms/step - loss: 0.1227 - accuracy: 0.9603 - val_loss: 0.4373 - val_accuracy: 0.8698 - lr: 1.0000e-04\n",
      "Epoch 14/100\n",
      "655/655 [==============================] - ETA: 0s - loss: 0.1170 - accuracy: 0.9619Restoring model weights from the end of the best epoch: 9.\n",
      "\n",
      "Epoch 14: ReduceLROnPlateau reducing learning rate to 4.999999873689376e-05.\n",
      "655/655 [==============================] - 298s 454ms/step - loss: 0.1170 - accuracy: 0.9619 - val_loss: 0.4348 - val_accuracy: 0.8742 - lr: 1.0000e-04\n",
      "Epoch 14: early stopping\n"
     ]
    }
   ],
   "source": [
    "history = model.fit(train_generator, epochs=100, batch_size=32, validation_data=validation_generator, callbacks=callbacks, verbose=1)\n",
    "model.save('model.h5')"
   ]
  },
  {
   "cell_type": "code",
   "execution_count": 19,
   "metadata": {},
   "outputs": [
    {
     "name": "stdout",
     "output_type": "stream",
     "text": [
      "164/164 [==============================] - 54s 328ms/step - loss: 0.4187 - accuracy: 0.8771\n",
      "[0.41871896386146545, 0.8771024346351624]\n"
     ]
    },
    {
     "data": {
      "image/png": "[encoded data removed]",
      "text/plain": [
       "<Figure size 640x480 with 1 Axes>"
      ]
     },
     "metadata": {},
     "output_type": "display_data"
    }
   ],
   "source": [
    "print(model.evaluate(validation_generator))\n",
    "\n",
    "#plot the accuracy and loss\n",
    "plt.plot(history.history['accuracy'])\n",
    "\n",
    "plt.plot(history.history['val_accuracy'])\n",
    "\n",
    "plt.title('model accuracy')\n",
    "\n",
    "plt.ylabel('accuracy')\n",
    "\n",
    "plt.xlabel('epoch')\n",
    "\n",
    "plt.legend(['train', 'test'], loc='upper left')\n",
    "\n",
    "plt.show()\n"
   ]
  },
  {
   "cell_type": "code",
   "execution_count": 12,
   "metadata": {},
   "outputs": [
    {
     "name": "stdout",
     "output_type": "stream",
     "text": [
      "Model: \"sequential_4\"\n",
      "_________________________________________________________________\n",
      " Layer (type)                Output Shape              Param #   \n",
      "=================================================================\n",
      " conv2d_12 (Conv2D)          (None, 298, 298, 32)      896       \n",
      "                                                                 \n",
      " max_pooling2d_12 (MaxPoolin  (None, 149, 149, 32)     0         \n",
      " g2D)                                                            \n",
      "                                                                 \n",
      " dropout_12 (Dropout)        (None, 149, 149, 32)      0         \n",
      "                                                                 \n",
      " batch_normalization_3 (Batc  (None, 149, 149, 32)     128       \n",
      " hNormalization)                                                 \n",
      "                                                                 \n",
      " conv2d_13 (Conv2D)          (None, 147, 147, 64)      18496     \n",
      "                                                                 \n",
      " max_pooling2d_13 (MaxPoolin  (None, 73, 73, 64)       0         \n",
      " g2D)                                                            \n",
      "                                                                 \n",
      " dropout_13 (Dropout)        (None, 73, 73, 64)        0         \n",
      "                                                                 \n",
      " conv2d_14 (Conv2D)          (None, 71, 71, 128)       73856     \n",
      "                                                                 \n",
      " max_pooling2d_14 (MaxPoolin  (None, 35, 35, 128)      0         \n",
      " g2D)                                                            \n",
      "                                                                 \n",
      " dropout_14 (Dropout)        (None, 35, 35, 128)       0         \n",
      "                                                                 \n",
      " conv2d_15 (Conv2D)          (None, 33, 33, 128)       147584    \n",
      "                                                                 \n",
      " max_pooling2d_15 (MaxPoolin  (None, 16, 16, 128)      0         \n",
      " g2D)                                                            \n",
      "                                                                 \n",
      " dropout_15 (Dropout)        (None, 16, 16, 128)       0         \n",
      "                                                                 \n",
      " flatten_4 (Flatten)         (None, 32768)             0         \n",
      "                                                                 \n",
      " dense_8 (Dense)             (None, 512)               16777728  \n",
      "                                                                 \n",
      " dense_9 (Dense)             (None, 10)                5130      \n",
      "                                                                 \n",
      "=================================================================\n",
      "Total params: 17,023,818\n",
      "Trainable params: 17,023,754\n",
      "Non-trainable params: 64\n",
      "_________________________________________________________________\n"
     ]
    }
   ],
   "source": [
    "#create a new model \n",
    "model2 = keras.Sequential()\n",
    "\n",
    "#use conv2d, maxpooling2d, dropout and batchnormalization\n",
    "model2.add(Conv2D(32, (3, 3), activation='relu', input_shape=(300, 300, 3)))\n",
    "model2.add(MaxPooling2D((2, 2)))\n",
    "model2.add(Dropout(0.2))\n",
    "model2.add(keras.layers.BatchNormalization())\n",
    "\n",
    "model2.add(Conv2D(64, (3, 3), activation='relu'))\n",
    "model2.add(MaxPooling2D((2, 2)))\n",
    "model2.add(Dropout(0.2))\n",
    "\n",
    "model2.add(Conv2D(128, (3, 3), activation='relu'))\n",
    "model2.add(MaxPooling2D((2, 2)))\n",
    "model2.add(Dropout(0.2))\n",
    "\n",
    "model2.add(Conv2D(128, (3, 3), activation='relu'))\n",
    "model2.add(MaxPooling2D((2, 2)))\n",
    "model2.add(Dropout(0.2))\n",
    "\n",
    "model2.add(Flatten())\n",
    "model2.add(Dense(512, activation='relu'))\n",
    "model2.add(Dense(10, activation='softmax'))\n",
    "\n",
    "\n",
    "model2.summary()"
   ]
  },
  {
   "cell_type": "code",
   "execution_count": 13,
   "metadata": {},
   "outputs": [],
   "source": [
    "model2.compile(loss='categorical_crossentropy', optimizer=keras.optimizers.Adam(lr=0.0001), metrics=['accuracy'])\n",
    "\n",
    "early_stopping = keras.callbacks.EarlyStopping(\n",
    "    monitor='val_accuracy',\n",
    "    min_delta=0.00005,\n",
    "    patience=5,\n",
    "    verbose=1,\n",
    "    restore_best_weights=True,\n",
    ")\n",
    "\n",
    "lr_scheduler = keras.callbacks.ReduceLROnPlateau(\n",
    "    monitor='val_accuracy',\n",
    "    factor=0.5,\n",
    "    patience=5,\n",
    "    min_lr=1e-7,\n",
    "    verbose=1,\n",
    ")\n",
    "\n",
    "\n",
    "callbacks = [\n",
    "    early_stopping,\n",
    "    lr_scheduler,\n",
    "]\n"
   ]
  },
  {
   "cell_type": "code",
   "execution_count": 14,
   "metadata": {},
   "outputs": [
    {
     "name": "stdout",
     "output_type": "stream",
     "text": [
      "Epoch 1/100\n",
      "655/655 [==============================] - 278s 424ms/step - loss: 1.7860 - accuracy: 0.3886 - val_loss: 1.6687 - val_accuracy: 0.4646 - lr: 1.0000e-04\n",
      "Epoch 2/100\n",
      "655/655 [==============================] - 282s 430ms/step - loss: 1.3783 - accuracy: 0.5328 - val_loss: 1.3814 - val_accuracy: 0.5549 - lr: 1.0000e-04\n",
      "Epoch 3/100\n",
      "655/655 [==============================] - 282s 430ms/step - loss: 1.1931 - accuracy: 0.5952 - val_loss: 1.2603 - val_accuracy: 0.5885 - lr: 1.0000e-04\n",
      "Epoch 4/100\n",
      "655/655 [==============================] - 283s 432ms/step - loss: 1.0660 - accuracy: 0.6398 - val_loss: 1.2137 - val_accuracy: 0.5994 - lr: 1.0000e-04\n",
      "Epoch 5/100\n",
      "655/655 [==============================] - 282s 431ms/step - loss: 0.9663 - accuracy: 0.6728 - val_loss: 1.0766 - val_accuracy: 0.6495 - lr: 1.0000e-04\n",
      "Epoch 6/100\n",
      "655/655 [==============================] - 283s 432ms/step - loss: 0.8773 - accuracy: 0.7042 - val_loss: 0.9856 - val_accuracy: 0.6810 - lr: 1.0000e-04\n",
      "Epoch 7/100\n",
      "655/655 [==============================] - 282s 430ms/step - loss: 0.7918 - accuracy: 0.7297 - val_loss: 0.9707 - val_accuracy: 0.6713 - lr: 1.0000e-04\n",
      "Epoch 8/100\n",
      "655/655 [==============================] - 285s 435ms/step - loss: 0.7236 - accuracy: 0.7507 - val_loss: 0.9690 - val_accuracy: 0.6751 - lr: 1.0000e-04\n",
      "Epoch 9/100\n",
      "655/655 [==============================] - 280s 428ms/step - loss: 0.6534 - accuracy: 0.7773 - val_loss: 0.9210 - val_accuracy: 0.6919 - lr: 1.0000e-04\n",
      "Epoch 10/100\n",
      "655/655 [==============================] - 282s 430ms/step - loss: 0.5893 - accuracy: 0.8025 - val_loss: 0.9595 - val_accuracy: 0.6864 - lr: 1.0000e-04\n",
      "Epoch 11/100\n",
      "655/655 [==============================] - 281s 429ms/step - loss: 0.5268 - accuracy: 0.8220 - val_loss: 0.8887 - val_accuracy: 0.7087 - lr: 1.0000e-04\n",
      "Epoch 12/100\n",
      "655/655 [==============================] - 282s 431ms/step - loss: 0.4753 - accuracy: 0.8390 - val_loss: 0.9163 - val_accuracy: 0.7053 - lr: 1.0000e-04\n",
      "Epoch 13/100\n",
      "655/655 [==============================] - 285s 435ms/step - loss: 0.4151 - accuracy: 0.8589 - val_loss: 0.9594 - val_accuracy: 0.7001 - lr: 1.0000e-04\n",
      "Epoch 14/100\n",
      "655/655 [==============================] - 277s 423ms/step - loss: 0.3672 - accuracy: 0.8740 - val_loss: 0.9218 - val_accuracy: 0.7192 - lr: 1.0000e-04\n",
      "Epoch 15/100\n",
      "655/655 [==============================] - 284s 433ms/step - loss: 0.3378 - accuracy: 0.8881 - val_loss: 0.9593 - val_accuracy: 0.7097 - lr: 1.0000e-04\n",
      "Epoch 16/100\n",
      "655/655 [==============================] - 282s 430ms/step - loss: 0.3031 - accuracy: 0.8965 - val_loss: 0.9337 - val_accuracy: 0.7219 - lr: 1.0000e-04\n",
      "Epoch 17/100\n",
      "655/655 [==============================] - 276s 421ms/step - loss: 0.2653 - accuracy: 0.9092 - val_loss: 0.9789 - val_accuracy: 0.7120 - lr: 1.0000e-04\n",
      "Epoch 18/100\n",
      "655/655 [==============================] - 283s 432ms/step - loss: 0.2517 - accuracy: 0.9150 - val_loss: 0.9853 - val_accuracy: 0.7208 - lr: 1.0000e-04\n",
      "Epoch 19/100\n",
      "655/655 [==============================] - 284s 433ms/step - loss: 0.2315 - accuracy: 0.9211 - val_loss: 0.9994 - val_accuracy: 0.7311 - lr: 1.0000e-04\n",
      "Epoch 20/100\n",
      "655/655 [==============================] - 283s 432ms/step - loss: 0.2099 - accuracy: 0.9293 - val_loss: 1.0556 - val_accuracy: 0.7211 - lr: 1.0000e-04\n",
      "Epoch 21/100\n",
      "655/655 [==============================] - 287s 438ms/step - loss: 0.1850 - accuracy: 0.9356 - val_loss: 1.1002 - val_accuracy: 0.7060 - lr: 1.0000e-04\n",
      "Epoch 22/100\n",
      "655/655 [==============================] - 285s 435ms/step - loss: 0.1723 - accuracy: 0.9434 - val_loss: 1.0762 - val_accuracy: 0.7284 - lr: 1.0000e-04\n",
      "Epoch 23/100\n",
      "655/655 [==============================] - 282s 430ms/step - loss: 0.1587 - accuracy: 0.9481 - val_loss: 1.1141 - val_accuracy: 0.7188 - lr: 1.0000e-04\n",
      "Epoch 24/100\n",
      "655/655 [==============================] - ETA: 0s - loss: 0.1443 - accuracy: 0.9524Restoring model weights from the end of the best epoch: 19.\n",
      "\n",
      "Epoch 24: ReduceLROnPlateau reducing learning rate to 4.999999873689376e-05.\n",
      "655/655 [==============================] - 284s 433ms/step - loss: 0.1443 - accuracy: 0.9524 - val_loss: 1.1342 - val_accuracy: 0.7211 - lr: 1.0000e-04\n",
      "Epoch 24: early stopping\n"
     ]
    }
   ],
   "source": [
    "history2 = model2.fit(train_generator, epochs=100, batch_size=32, validation_data=validation_generator, callbacks=callbacks, verbose=1)\n",
    "\n",
    "#save the model\n",
    "model2.save('model2.h5')"
   ]
  },
  {
   "cell_type": "code",
   "execution_count": 15,
   "metadata": {},
   "outputs": [
    {
     "name": "stdout",
     "output_type": "stream",
     "text": [
      "164/164 [==============================] - 52s 314ms/step - loss: 1.0312 - accuracy: 0.7221\n",
      "[1.0312449932098389, 0.7220947742462158]\n"
     ]
    },
    {
     "data": {
      "image/png": "[encoded data removed]",
      "text/plain": [
       "<Figure size 640x480 with 1 Axes>"
      ]
     },
     "metadata": {},
     "output_type": "display_data"
    }
   ],
   "source": [
    "print(model2.evaluate(validation_generator))\n",
    "\n",
    "#plot the accuracy and loss\n",
    "plt.plot(history2.history['accuracy'])\n",
    "\n",
    "plt.plot(history2.history['val_accuracy'])\n",
    "\n",
    "plt.title('model accuracy')\n",
    "\n",
    "plt.ylabel('accuracy')\n",
    "\n",
    "plt.xlabel('epoch')\n",
    "\n",
    "plt.legend(['train', 'test'], loc='upper left')\n",
    "\n",
    "plt.show()\n"
   ]
  }
 ],
 "metadata": {
  "kernelspec": {
   "display_name": "Python 3.8.10 64-bit",
   "language": "python",
   "name": "python3"
  },
  "language_info": {
   "codemirror_mode": {
    "name": "ipython",
    "version": 3
   },
   "file_extension": ".py",
   "mimetype": "text/x-python",
   "name": "python",
   "nbconvert_exporter": "python",
   "pygments_lexer": "ipython3",
   "version": "3.8.10"
  },
  "orig_nbformat": 4,
  "vscode": {
   "interpreter": {
    "hash": "916dbcbb3f70747c44a77c7bcd40155683ae19c65e1c03b4aa3499c5328201f1"
   }
  }
 },
 "nbformat": 4,
 "nbformat_minor": 2
}
