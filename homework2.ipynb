{
 "cells": [
  {
   "cell_type": "markdown",
   "metadata": {},
   "source": [
    "# Animal classification\n",
    "https://www.kaggle.com/datasets/alessiocorrado99/animals10?resource=download\n",
    "\n",
    "This dataset contains 10 classes of animals. TIt contains about 28K medium quality animal images belonging to 10 categories: dog, cat, horse, spyder, butterfly, chicken, sheep, cow, squirrel, elephant.\n",
    "\n",
    "Each class has about 2k to 5k images."
   ]
  },
  {
   "cell_type": "code",
   "execution_count": 1,
   "metadata": {},
   "outputs": [
    {
     "name": "stderr",
     "output_type": "stream",
     "text": [
      "2022-12-29 00:54:27.148738: I tensorflow/core/platform/cpu_feature_guard.cc:193] This TensorFlow binary is optimized with oneAPI Deep Neural Network Library (oneDNN) to use the following CPU instructions in performance-critical operations:  AVX2 AVX512F AVX512_VNNI FMA\n",
      "To enable them in other operations, rebuild TensorFlow with the appropriate compiler flags.\n",
      "2022-12-29 00:54:27.610244: I tensorflow/core/util/util.cc:169] oneDNN custom operations are on. You may see slightly different numerical results due to floating-point round-off errors from different computation orders. To turn them off, set the environment variable `TF_ENABLE_ONEDNN_OPTS=0`.\n",
      "2022-12-29 00:54:27.760914: E tensorflow/stream_executor/cuda/cuda_blas.cc:2981] Unable to register cuBLAS factory: Attempting to register factory for plugin cuBLAS when one has already been registered\n",
      "2022-12-29 00:54:28.620607: W tensorflow/stream_executor/platform/default/dso_loader.cc:64] Could not load dynamic library 'libnvinfer.so.7'; dlerror: libnvinfer.so.7: cannot open shared object file: No such file or directory; LD_LIBRARY_PATH: :/home/theshadow/Documents/MLexercises/TES/lib/\n",
      "2022-12-29 00:54:28.620681: W tensorflow/stream_executor/platform/default/dso_loader.cc:64] Could not load dynamic library 'libnvinfer_plugin.so.7'; dlerror: libnvinfer_plugin.so.7: cannot open shared object file: No such file or directory; LD_LIBRARY_PATH: :/home/theshadow/Documents/MLexercises/TES/lib/\n",
      "2022-12-29 00:54:28.620686: W tensorflow/compiler/tf2tensorrt/utils/py_utils.cc:38] TF-TRT Warning: Cannot dlopen some TensorRT libraries. If you would like to use Nvidia GPU with TensorRT, please make sure the missing libraries mentioned above are installed properly.\n",
      "2022-12-29 00:54:30.225136: I tensorflow/core/platform/cpu_feature_guard.cc:193] This TensorFlow binary is optimized with oneAPI Deep Neural Network Library (oneDNN) to use the following CPU instructions in performance-critical operations:  AVX2 AVX512F AVX512_VNNI FMA\n",
      "To enable them in other operations, rebuild TensorFlow with the appropriate compiler flags.\n",
      "2022-12-29 00:54:30.303511: I tensorflow/stream_executor/cuda/cuda_gpu_executor.cc:980] successful NUMA node read from SysFS had negative value (-1), but there must be at least one NUMA node, so returning NUMA node zero\n",
      "2022-12-29 00:54:30.341760: I tensorflow/stream_executor/cuda/cuda_gpu_executor.cc:980] successful NUMA node read from SysFS had negative value (-1), but there must be at least one NUMA node, so returning NUMA node zero\n",
      "2022-12-29 00:54:30.342165: I tensorflow/stream_executor/cuda/cuda_gpu_executor.cc:980] successful NUMA node read from SysFS had negative value (-1), but there must be at least one NUMA node, so returning NUMA node zero\n"
     ]
    },
    {
     "name": "stdout",
     "output_type": "stream",
     "text": [
      "Num GPUs Available:  1\n"
     ]
    },
    {
     "name": "stderr",
     "output_type": "stream",
     "text": [
      "2022-12-29 00:54:31.011745: I tensorflow/stream_executor/cuda/cuda_gpu_executor.cc:980] successful NUMA node read from SysFS had negative value (-1), but there must be at least one NUMA node, so returning NUMA node zero\n",
      "2022-12-29 00:54:31.012641: I tensorflow/stream_executor/cuda/cuda_gpu_executor.cc:980] successful NUMA node read from SysFS had negative value (-1), but there must be at least one NUMA node, so returning NUMA node zero\n",
      "2022-12-29 00:54:31.012759: I tensorflow/stream_executor/cuda/cuda_gpu_executor.cc:980] successful NUMA node read from SysFS had negative value (-1), but there must be at least one NUMA node, so returning NUMA node zero\n",
      "2022-12-29 00:54:31.013335: I tensorflow/core/common_runtime/gpu/gpu_device.cc:1616] Created device /job:localhost/replica:0/task:0/device:GPU:0 with 4117 MB memory:  -> device: 0, name: NVIDIA GeForce RTX 3060 Laptop GPU, pci bus id: 0000:01:00.0, compute capability: 8.6\n",
      "2022-12-29 00:54:31.015288: I tensorflow/stream_executor/cuda/cuda_gpu_executor.cc:980] successful NUMA node read from SysFS had negative value (-1), but there must be at least one NUMA node, so returning NUMA node zero\n",
      "2022-12-29 00:54:31.015392: I tensorflow/stream_executor/cuda/cuda_gpu_executor.cc:980] successful NUMA node read from SysFS had negative value (-1), but there must be at least one NUMA node, so returning NUMA node zero\n",
      "2022-12-29 00:54:31.015465: I tensorflow/stream_executor/cuda/cuda_gpu_executor.cc:980] successful NUMA node read from SysFS had negative value (-1), but there must be at least one NUMA node, so returning NUMA node zero\n"
     ]
    }
   ],
   "source": [
    "import tensorflow  as  tf\n",
    "from  tensorflow  import  keras\n",
    "from tensorflow.keras.preprocessing.image import ImageDataGenerator\n",
    "\n",
    "from tensorflow.keras.layers import Conv2D, MaxPooling2D, Flatten, Dense, Dropout\n",
    "\n",
    "\n",
    "from tensorflow.compat.v1 import ConfigProto\n",
    "from tensorflow.compat.v1 import InteractiveSession\n",
    "from sklearn.model_selection import train_test_split\n",
    "import sklearn\n",
    "\n",
    "import numpy as  np\n",
    "import matplotlib.pyplot  as  plt\n",
    "import os\n",
    "import cv2\n",
    "import random\n",
    "import cv2 as cv\n",
    "import pandas  as  pd\n",
    "import tqdm as tqdm\n",
    "\n",
    "\n",
    "config = ConfigProto()\n",
    "config.gpu_options.allow_growth = True\n",
    "session = InteractiveSession(config=config)\n",
    "\n",
    "#print the number of GPU\n",
    "\n",
    "print ( \"Num GPUs Available: \" ,  len ( tf.config.experimental.list_physical_devices ( 'GPU' )))"
   ]
  },
  {
   "cell_type": "code",
   "execution_count": 7,
   "metadata": {},
   "outputs": [
    {
     "name": "stderr",
     "output_type": "stream",
     "text": [
      " 70%|███████   | 7/10 [00:03<00:01,  2.74it/s]libpng warning: iCCP: known incorrect sRGB profile\n",
      "libpng warning: iCCP: known incorrect sRGB profile\n",
      "libpng warning: iCCP: known incorrect sRGB profile\n",
      "libpng warning: iCCP: known incorrect sRGB profile\n",
      "libpng warning: iCCP: known incorrect sRGB profile\n",
      "libpng warning: iCCP: known incorrect sRGB profile\n",
      "100%|██████████| 10/10 [00:05<00:00,  1.91it/s]\n"
     ]
    },
    {
     "name": "stdout",
     "output_type": "stream",
     "text": [
      "(3200, 150, 150, 3)\n",
      "(3200, 10)\n",
      "(1000, 150, 150, 3)\n",
      "(1000, 10)\n",
      "(800, 150, 150, 3)\n",
      "(800, 10)\n"
     ]
    }
   ],
   "source": [
    "path = \"./dataset\"\n",
    "\n",
    "#for each folder in the dataset folder, split the data into training and test set\n",
    "\n",
    "train_x = []\n",
    "train_y = []\n",
    "test_x = []\n",
    "test_y = []\n",
    "\n",
    "dizionario = {'cane': 0, 'cavallo': 1, 'elefante': 2, 'farfalla': 3, 'gallina': 4, 'gatto': 5, 'mucca': 6, 'pecora': 7, 'ragno': 8, 'scoiattolo': 9}\n",
    "\n",
    "numSamplesPerClass = 500\n",
    "\n",
    "\n",
    "for folder in tqdm.tqdm(os.listdir(path)):\n",
    "    images = []\n",
    "    labels = []\n",
    "    cont = 0\n",
    "    for img in os.listdir(os.path.join(path, folder)):\n",
    "        if cont == numSamplesPerClass:\n",
    "            break\n",
    "        cont += 1\n",
    "        #the image is in color\n",
    "        img_array = cv2.imread(os.path.join(path, folder, img), cv2.IMREAD_COLOR)\n",
    "        #resize the image\n",
    "        new_array = cv2.resize(img_array, (150, 150))\n",
    "        #append the image to the list\n",
    "        images.append(new_array)\n",
    "        #append the label to the list\n",
    "        labels.append(dizionario[folder])\n",
    "    #split the data into training and test set\n",
    "    train_images, test_images, train_labels, test_labels = train_test_split(images, labels, test_size=0.2, random_state=42)\n",
    "    #append the training and test set to the list\n",
    "    train_x.extend(train_images)\n",
    "    train_y.extend(train_labels)\n",
    "    test_x.extend(test_images)\n",
    "    test_y.extend(test_labels)\n",
    "\n",
    "#convert the list to numpy array\n",
    "train_x = np.array(train_x)\n",
    "train_y = np.array(train_y)\n",
    "\n",
    "test_x = np.array(test_x)\n",
    "test_y = np.array(test_y)\n",
    "\n",
    "#map the label to the class name\n",
    "\n",
    "#rescale the data\n",
    "train_x = train_x / 255.0\n",
    "test_x = test_x / 255.0\n",
    "\n",
    "#split the training set into training and validation set\n",
    "train_x, val_x, train_y, val_y = train_test_split(train_x, train_y, test_size=0.2, random_state=42)\n",
    "\n",
    "#convert the labels to one hot encoding\n",
    "train_y = keras.utils.to_categorical(train_y, 10)\n",
    "test_y = keras.utils.to_categorical(test_y, 10)\n",
    "val_y = keras.utils.to_categorical(val_y, 10)\n",
    "\n",
    "\n",
    "print(train_x.shape)\n",
    "print(train_y.shape)\n",
    "print(test_x.shape)\n",
    "print(test_y.shape)\n",
    "print(val_x.shape)\n",
    "print(val_y.shape)\n",
    "\n",
    "\n",
    "\n",
    "\n",
    "\n",
    "\n",
    "\n",
    "\n",
    "#tempo di esecuzione: 1min 30sec\n"
   ]
  },
  {
   "cell_type": "code",
   "execution_count": 2,
   "metadata": {},
   "outputs": [
    {
     "name": "stdout",
     "output_type": "stream",
     "text": [
      "Found 20947 images belonging to 10 classes.\n",
      "Found 5232 images belonging to 10 classes.\n"
     ]
    }
   ],
   "source": [
    "path = \"./dataset\"\n",
    "\n",
    "#load the data from the dataset and use flow_from_directory and split the data into training and test set\n",
    "\n",
    "train_datagen = ImageDataGenerator(rescale=1./255, validation_split=0.2)\n",
    "\n",
    "\n",
    "train_generator = train_datagen.flow_from_directory(\n",
    "        path,\n",
    "        target_size=(150, 150),\n",
    "        batch_size=32,\n",
    "        class_mode='categorical',\n",
    "        subset='training')\n",
    "\n",
    "validation_generator = train_datagen.flow_from_directory(\n",
    "        path,\n",
    "        target_size=(150, 150),\n",
    "        batch_size=32,\n",
    "        class_mode='categorical',\n",
    "        subset='validation')\n",
    "\n",
    "\n",
    "\n"
   ]
  },
  {
   "cell_type": "code",
   "execution_count": 3,
   "metadata": {},
   "outputs": [
    {
     "name": "stderr",
     "output_type": "stream",
     "text": [
      "2022-12-28 18:20:40.797838: I tensorflow/stream_executor/cuda/cuda_gpu_executor.cc:980] successful NUMA node read from SysFS had negative value (-1), but there must be at least one NUMA node, so returning NUMA node zero\n",
      "2022-12-28 18:20:40.798065: I tensorflow/stream_executor/cuda/cuda_gpu_executor.cc:980] successful NUMA node read from SysFS had negative value (-1), but there must be at least one NUMA node, so returning NUMA node zero\n",
      "2022-12-28 18:20:40.798174: I tensorflow/stream_executor/cuda/cuda_gpu_executor.cc:980] successful NUMA node read from SysFS had negative value (-1), but there must be at least one NUMA node, so returning NUMA node zero\n",
      "2022-12-28 18:20:40.798352: I tensorflow/stream_executor/cuda/cuda_gpu_executor.cc:980] successful NUMA node read from SysFS had negative value (-1), but there must be at least one NUMA node, so returning NUMA node zero\n",
      "2022-12-28 18:20:40.798462: I tensorflow/stream_executor/cuda/cuda_gpu_executor.cc:980] successful NUMA node read from SysFS had negative value (-1), but there must be at least one NUMA node, so returning NUMA node zero\n",
      "2022-12-28 18:20:40.798561: I tensorflow/core/common_runtime/gpu/gpu_device.cc:1616] Created device /job:localhost/replica:0/task:0/device:GPU:0 with 4117 MB memory:  -> device: 0, name: NVIDIA GeForce RTX 3060 Laptop GPU, pci bus id: 0000:01:00.0, compute capability: 8.6\n"
     ]
    },
    {
     "name": "stdout",
     "output_type": "stream",
     "text": [
      "Model: \"model\"\n",
      "_________________________________________________________________\n",
      " Layer (type)                Output Shape              Param #   \n",
      "=================================================================\n",
      " input_1 (InputLayer)        [(None, 150, 150, 3)]     0         \n",
      "                                                                 \n",
      " block1_conv1 (Conv2D)       (None, 150, 150, 64)      1792      \n",
      "                                                                 \n",
      " block1_conv2 (Conv2D)       (None, 150, 150, 64)      36928     \n",
      "                                                                 \n",
      " block1_pool (MaxPooling2D)  (None, 75, 75, 64)        0         \n",
      "                                                                 \n",
      " block2_conv1 (Conv2D)       (None, 75, 75, 128)       73856     \n",
      "                                                                 \n",
      " block2_conv2 (Conv2D)       (None, 75, 75, 128)       147584    \n",
      "                                                                 \n",
      " block2_pool (MaxPooling2D)  (None, 37, 37, 128)       0         \n",
      "                                                                 \n",
      " block3_conv1 (Conv2D)       (None, 37, 37, 256)       295168    \n",
      "                                                                 \n",
      " block3_conv2 (Conv2D)       (None, 37, 37, 256)       590080    \n",
      "                                                                 \n",
      " block3_conv3 (Conv2D)       (None, 37, 37, 256)       590080    \n",
      "                                                                 \n",
      " block3_pool (MaxPooling2D)  (None, 18, 18, 256)       0         \n",
      "                                                                 \n",
      " block4_conv1 (Conv2D)       (None, 18, 18, 512)       1180160   \n",
      "                                                                 \n",
      " block4_conv2 (Conv2D)       (None, 18, 18, 512)       2359808   \n",
      "                                                                 \n",
      " block4_conv3 (Conv2D)       (None, 18, 18, 512)       2359808   \n",
      "                                                                 \n",
      " block4_pool (MaxPooling2D)  (None, 9, 9, 512)         0         \n",
      "                                                                 \n",
      " block5_conv1 (Conv2D)       (None, 9, 9, 512)         2359808   \n",
      "                                                                 \n",
      " block5_conv2 (Conv2D)       (None, 9, 9, 512)         2359808   \n",
      "                                                                 \n",
      " block5_conv3 (Conv2D)       (None, 9, 9, 512)         2359808   \n",
      "                                                                 \n",
      " block5_pool (MaxPooling2D)  (None, 4, 4, 512)         0         \n",
      "                                                                 \n",
      " sequential (Sequential)     (None, 10)                2099978   \n",
      "                                                                 \n",
      "=================================================================\n",
      "Total params: 16,814,666\n",
      "Trainable params: 2,099,978\n",
      "Non-trainable params: 14,714,688\n",
      "_________________________________________________________________\n"
     ]
    },
    {
     "name": "stderr",
     "output_type": "stream",
     "text": [
      "/home/theshadow/.local/lib/python3.8/site-packages/keras/optimizers/optimizer_v2/adam.py:114: UserWarning: The `lr` argument is deprecated, use `learning_rate` instead.\n",
      "  super().__init__(name, **kwargs)\n"
     ]
    }
   ],
   "source": [
    "base_model = keras.applications.VGG16(weights='imagenet', include_top=False, input_shape=(150, 150, 3))\n",
    "for layer in base_model.layers:\n",
    "    layer.trainable = False\n",
    "\n",
    "add_model = keras.Sequential()\n",
    "add_model.add(Flatten(input_shape=base_model.output_shape[1:]))\n",
    "add_model.add(Dense(256, activation='relu'))\n",
    "add_model.add(Dense(10, activation='softmax'))\n",
    "\n",
    "model = keras.Model(inputs=base_model.input, outputs=add_model(base_model.output))\n",
    "model.compile(loss='binary_crossentropy', optimizer=keras.optimizers.Adam(lr=1e-5), metrics=['accuracy'])\n",
    "\n",
    "model.summary()"
   ]
  },
  {
   "cell_type": "code",
   "execution_count": 4,
   "metadata": {},
   "outputs": [],
   "source": [
    "model.compile(loss='categorical_crossentropy', optimizer=keras.optimizers.Adam(lr=0.0001), metrics=['accuracy'])\n",
    "\n",
    "\n",
    "early_stopping = keras.callbacks.EarlyStopping(\n",
    "    monitor='val_accuracy',\n",
    "    min_delta=0.00005,\n",
    "    patience=5,\n",
    "    verbose=1,\n",
    "    restore_best_weights=True,\n",
    ")\n",
    "\n",
    "lr_scheduler = keras.callbacks.ReduceLROnPlateau(\n",
    "    monitor='val_accuracy',\n",
    "    factor=0.5,\n",
    "    patience=5,\n",
    "    min_lr=1e-7,\n",
    "    verbose=1,\n",
    ")\n",
    "\n",
    "\n",
    "callbacks = [\n",
    "    early_stopping,\n",
    "    lr_scheduler,\n",
    "]\n"
   ]
  },
  {
   "cell_type": "code",
   "execution_count": 5,
   "metadata": {},
   "outputs": [
    {
     "name": "stdout",
     "output_type": "stream",
     "text": [
      "Epoch 1/100\n"
     ]
    },
    {
     "name": "stderr",
     "output_type": "stream",
     "text": [
      "2022-12-28 18:20:43.959738: I tensorflow/stream_executor/cuda/cuda_dnn.cc:384] Loaded cuDNN version 8100\n",
      "2022-12-28 18:20:45.036606: W tensorflow/stream_executor/gpu/asm_compiler.cc:111] *** WARNING *** You are using ptxas 10.1.243, which is older than 11.1. ptxas before 11.1 is known to miscompile XLA code, leading to incorrect results or invalid-address errors.\n",
      "\n",
      "You may not need to update to CUDA 11.1; cherry-picking the ptxas binary is often sufficient.\n",
      "2022-12-28 18:20:45.037658: W tensorflow/stream_executor/gpu/asm_compiler.cc:230] Falling back to the CUDA driver for PTX compilation; ptxas does not support CC 8.6\n",
      "2022-12-28 18:20:45.037667: W tensorflow/stream_executor/gpu/asm_compiler.cc:233] Used ptxas at ptxas\n",
      "2022-12-28 18:20:45.037695: W tensorflow/stream_executor/gpu/redzone_allocator.cc:314] UNIMPLEMENTED: ptxas ptxas too old. Falling back to the driver to compile.\n",
      "Relying on driver to perform ptx compilation. \n",
      "Modify $PATH to customize ptxas location.\n",
      "This message will be only logged once.\n",
      "2022-12-28 18:20:45.892880: W tensorflow/core/common_runtime/bfc_allocator.cc:290] Allocator (GPU_0_bfc) ran out of memory trying to allocate 1.56GiB with freed_by_count=0. The caller indicates that this is not a failure, but this may mean that there could be performance gains if more memory were available.\n",
      "2022-12-28 18:20:45.892910: W tensorflow/core/common_runtime/bfc_allocator.cc:290] Allocator (GPU_0_bfc) ran out of memory trying to allocate 1.56GiB with freed_by_count=0. The caller indicates that this is not a failure, but this may mean that there could be performance gains if more memory were available.\n",
      "2022-12-28 18:20:45.892915: W tensorflow/core/common_runtime/bfc_allocator.cc:290] Allocator (GPU_0_bfc) ran out of memory trying to allocate 3.04GiB with freed_by_count=0. The caller indicates that this is not a failure, but this may mean that there could be performance gains if more memory were available.\n",
      "2022-12-28 18:20:45.892919: W tensorflow/core/common_runtime/bfc_allocator.cc:290] Allocator (GPU_0_bfc) ran out of memory trying to allocate 3.04GiB with freed_by_count=0. The caller indicates that this is not a failure, but this may mean that there could be performance gains if more memory were available.\n",
      "2022-12-28 18:20:46.478033: W tensorflow/core/common_runtime/bfc_allocator.cc:290] Allocator (GPU_0_bfc) ran out of memory trying to allocate 2.55GiB with freed_by_count=0. The caller indicates that this is not a failure, but this may mean that there could be performance gains if more memory were available.\n",
      "2022-12-28 18:20:46.478064: W tensorflow/core/common_runtime/bfc_allocator.cc:290] Allocator (GPU_0_bfc) ran out of memory trying to allocate 2.55GiB with freed_by_count=0. The caller indicates that this is not a failure, but this may mean that there could be performance gains if more memory were available.\n",
      "2022-12-28 18:20:47.028805: W tensorflow/core/common_runtime/bfc_allocator.cc:290] Allocator (GPU_0_bfc) ran out of memory trying to allocate 2.34GiB with freed_by_count=0. The caller indicates that this is not a failure, but this may mean that there could be performance gains if more memory were available.\n",
      "2022-12-28 18:20:47.028835: W tensorflow/core/common_runtime/bfc_allocator.cc:290] Allocator (GPU_0_bfc) ran out of memory trying to allocate 2.34GiB with freed_by_count=0. The caller indicates that this is not a failure, but this may mean that there could be performance gains if more memory were available.\n",
      "2022-12-28 18:20:47.552545: W tensorflow/core/common_runtime/bfc_allocator.cc:290] Allocator (GPU_0_bfc) ran out of memory trying to allocate 2.28GiB with freed_by_count=0. The caller indicates that this is not a failure, but this may mean that there could be performance gains if more memory were available.\n",
      "2022-12-28 18:20:47.552573: W tensorflow/core/common_runtime/bfc_allocator.cc:290] Allocator (GPU_0_bfc) ran out of memory trying to allocate 2.28GiB with freed_by_count=0. The caller indicates that this is not a failure, but this may mean that there could be performance gains if more memory were available.\n",
      "2022-12-28 18:20:47.727369: I tensorflow/stream_executor/cuda/cuda_blas.cc:1614] TensorFloat-32 will be used for the matrix multiplication. This will only be logged once.\n"
     ]
    },
    {
     "name": "stdout",
     "output_type": "stream",
     "text": [
      "200/200 [==============================] - 18s 65ms/step - loss: 1.1222 - accuracy: 0.6394 - val_loss: 0.7630 - val_accuracy: 0.7606 - lr: 1.0000e-04\n",
      "Epoch 2/100\n",
      "200/200 [==============================] - 13s 63ms/step - loss: 0.6028 - accuracy: 0.8106 - val_loss: 0.6680 - val_accuracy: 0.7856 - lr: 1.0000e-04\n",
      "Epoch 3/100\n",
      "200/200 [==============================] - 13s 63ms/step - loss: 0.4469 - accuracy: 0.8700 - val_loss: 0.6261 - val_accuracy: 0.7900 - lr: 1.0000e-04\n",
      "Epoch 4/100\n",
      "200/200 [==============================] - 13s 64ms/step - loss: 0.3504 - accuracy: 0.9000 - val_loss: 0.6084 - val_accuracy: 0.7937 - lr: 1.0000e-04\n",
      "Epoch 5/100\n",
      "200/200 [==============================] - 13s 63ms/step - loss: 0.2778 - accuracy: 0.9303 - val_loss: 0.5618 - val_accuracy: 0.8194 - lr: 1.0000e-04\n",
      "Epoch 6/100\n",
      "200/200 [==============================] - 13s 63ms/step - loss: 0.2166 - accuracy: 0.9528 - val_loss: 0.5616 - val_accuracy: 0.8156 - lr: 1.0000e-04\n",
      "Epoch 7/100\n",
      "200/200 [==============================] - 13s 64ms/step - loss: 0.1797 - accuracy: 0.9655 - val_loss: 0.5570 - val_accuracy: 0.8194 - lr: 1.0000e-04\n",
      "Epoch 8/100\n",
      "200/200 [==============================] - 13s 64ms/step - loss: 0.1475 - accuracy: 0.9770 - val_loss: 0.5929 - val_accuracy: 0.8050 - lr: 1.0000e-04\n",
      "Epoch 9/100\n",
      "200/200 [==============================] - 13s 64ms/step - loss: 0.1199 - accuracy: 0.9875 - val_loss: 0.5630 - val_accuracy: 0.8181 - lr: 1.0000e-04\n",
      "Epoch 10/100\n",
      "200/200 [==============================] - ETA: 0s - loss: 0.0968 - accuracy: 0.9923\n",
      "Epoch 10: ReduceLROnPlateau reducing learning rate to 4.999999873689376e-05.\n",
      "200/200 [==============================] - 13s 64ms/step - loss: 0.0968 - accuracy: 0.9923 - val_loss: 0.5763 - val_accuracy: 0.8175 - lr: 1.0000e-04\n",
      "Epoch 11/100\n",
      "200/200 [==============================] - 13s 64ms/step - loss: 0.0746 - accuracy: 0.9966 - val_loss: 0.5637 - val_accuracy: 0.8256 - lr: 5.0000e-05\n",
      "Epoch 12/100\n",
      "200/200 [==============================] - 13s 64ms/step - loss: 0.0671 - accuracy: 0.9972 - val_loss: 0.5728 - val_accuracy: 0.8244 - lr: 5.0000e-05\n",
      "Epoch 13/100\n",
      "200/200 [==============================] - 13s 64ms/step - loss: 0.0614 - accuracy: 0.9980 - val_loss: 0.5721 - val_accuracy: 0.8238 - lr: 5.0000e-05\n",
      "Epoch 14/100\n",
      "200/200 [==============================] - 13s 64ms/step - loss: 0.0556 - accuracy: 0.9984 - val_loss: 0.5804 - val_accuracy: 0.8256 - lr: 5.0000e-05\n",
      "Epoch 15/100\n",
      "200/200 [==============================] - 13s 64ms/step - loss: 0.0508 - accuracy: 0.9992 - val_loss: 0.5786 - val_accuracy: 0.8188 - lr: 5.0000e-05\n",
      "Epoch 16/100\n",
      "200/200 [==============================] - ETA: 0s - loss: 0.0452 - accuracy: 0.9991\n",
      "Epoch 16: ReduceLROnPlateau reducing learning rate to 2.499999936844688e-05.\n",
      "200/200 [==============================] - 13s 64ms/step - loss: 0.0452 - accuracy: 0.9991 - val_loss: 0.5783 - val_accuracy: 0.8188 - lr: 5.0000e-05\n",
      "Epoch 17/100\n",
      "200/200 [==============================] - 13s 65ms/step - loss: 0.0398 - accuracy: 0.9997 - val_loss: 0.5892 - val_accuracy: 0.8263 - lr: 2.5000e-05\n",
      "Epoch 18/100\n",
      "200/200 [==============================] - 13s 65ms/step - loss: 0.0379 - accuracy: 0.9997 - val_loss: 0.5876 - val_accuracy: 0.8275 - lr: 2.5000e-05\n",
      "Epoch 19/100\n",
      "200/200 [==============================] - 13s 64ms/step - loss: 0.0356 - accuracy: 0.9998 - val_loss: 0.5930 - val_accuracy: 0.8219 - lr: 2.5000e-05\n",
      "Epoch 20/100\n",
      "200/200 [==============================] - 13s 65ms/step - loss: 0.0338 - accuracy: 0.9998 - val_loss: 0.5909 - val_accuracy: 0.8238 - lr: 2.5000e-05\n",
      "Epoch 21/100\n",
      "200/200 [==============================] - 13s 65ms/step - loss: 0.0319 - accuracy: 0.9998 - val_loss: 0.5935 - val_accuracy: 0.8250 - lr: 2.5000e-05\n",
      "Epoch 22/100\n",
      "200/200 [==============================] - 13s 65ms/step - loss: 0.0302 - accuracy: 0.9998 - val_loss: 0.5971 - val_accuracy: 0.8250 - lr: 2.5000e-05\n",
      "Epoch 23/100\n",
      "200/200 [==============================] - ETA: 0s - loss: 0.0287 - accuracy: 0.9998\n",
      "Epoch 23: ReduceLROnPlateau reducing learning rate to 1.249999968422344e-05.\n",
      "200/200 [==============================] - 13s 65ms/step - loss: 0.0287 - accuracy: 0.9998 - val_loss: 0.6002 - val_accuracy: 0.8238 - lr: 2.5000e-05\n",
      "Epoch 24/100\n",
      "200/200 [==============================] - ETA: 0s - loss: 0.0261 - accuracy: 1.0000Restoring model weights from the end of the best epoch: 18.\n",
      "200/200 [==============================] - 13s 65ms/step - loss: 0.0261 - accuracy: 1.0000 - val_loss: 0.6003 - val_accuracy: 0.8263 - lr: 1.2500e-05\n",
      "Epoch 24: early stopping\n"
     ]
    }
   ],
   "source": [
    "history = model.fit(train_generator, epochs=100, batch_size=32, validation_data=validation_generator, callbacks=callbacks, verbose=1)"
   ]
  },
  {
   "cell_type": "code",
   "execution_count": 6,
   "metadata": {},
   "outputs": [
    {
     "name": "stdout",
     "output_type": "stream",
     "text": [
      "50/50 [==============================] - 3s 51ms/step - loss: 0.5876 - accuracy: 0.8275\n",
      "[0.5875987410545349, 0.8274999856948853]\n",
      "63/63 [==============================] - 4s 68ms/step - loss: 0.5372 - accuracy: 0.8250\n",
      "[0.5372493863105774, 0.824999988079071]\n"
     ]
    },
    {
     "data": {
      "image/png": "[encoded data removed]",
      "text/plain": [
       "<Figure size 640x480 with 1 Axes>"
      ]
     },
     "metadata": {},
     "output_type": "display_data"
    }
   ],
   "source": [
    "print(model.evaluate(val_x, val_y))\n",
    "print(model.evaluate(test_x, test_y))\n",
    "\n",
    "#plot the accuracy and loss\n",
    "plt.plot(history.history['accuracy'])\n",
    "\n",
    "plt.plot(history.history['val_accuracy'])\n",
    "\n",
    "plt.title('model accuracy')\n",
    "\n",
    "plt.ylabel('accuracy')\n",
    "\n",
    "plt.xlabel('epoch')\n",
    "\n",
    "plt.legend(['train', 'test'], loc='upper left')\n",
    "\n",
    "plt.show()\n"
   ]
  },
  {
   "cell_type": "code",
   "execution_count": 10,
   "metadata": {},
   "outputs": [
    {
     "name": "stdout",
     "output_type": "stream",
     "text": [
      "Model: \"sequential_1\"\n",
      "_________________________________________________________________\n",
      " Layer (type)                Output Shape              Param #   \n",
      "=================================================================\n",
      " conv2d_4 (Conv2D)           (None, 148, 148, 32)      896       \n",
      "                                                                 \n",
      " max_pooling2d_4 (MaxPooling  (None, 74, 74, 32)       0         \n",
      " 2D)                                                             \n",
      "                                                                 \n",
      " dropout_4 (Dropout)         (None, 74, 74, 32)        0         \n",
      "                                                                 \n",
      " batch_normalization_1 (Batc  (None, 74, 74, 32)       128       \n",
      " hNormalization)                                                 \n",
      "                                                                 \n",
      " conv2d_5 (Conv2D)           (None, 72, 72, 64)        18496     \n",
      "                                                                 \n",
      " max_pooling2d_5 (MaxPooling  (None, 36, 36, 64)       0         \n",
      " 2D)                                                             \n",
      "                                                                 \n",
      " dropout_5 (Dropout)         (None, 36, 36, 64)        0         \n",
      "                                                                 \n",
      " conv2d_6 (Conv2D)           (None, 34, 34, 128)       73856     \n",
      "                                                                 \n",
      " max_pooling2d_6 (MaxPooling  (None, 17, 17, 128)      0         \n",
      " 2D)                                                             \n",
      "                                                                 \n",
      " dropout_6 (Dropout)         (None, 17, 17, 128)       0         \n",
      "                                                                 \n",
      " conv2d_7 (Conv2D)           (None, 15, 15, 128)       147584    \n",
      "                                                                 \n",
      " max_pooling2d_7 (MaxPooling  (None, 7, 7, 128)        0         \n",
      " 2D)                                                             \n",
      "                                                                 \n",
      " dropout_7 (Dropout)         (None, 7, 7, 128)         0         \n",
      "                                                                 \n",
      " flatten_1 (Flatten)         (None, 6272)              0         \n",
      "                                                                 \n",
      " dense_2 (Dense)             (None, 512)               3211776   \n",
      "                                                                 \n",
      " dense_3 (Dense)             (None, 10)                5130      \n",
      "                                                                 \n",
      "=================================================================\n",
      "Total params: 3,457,866\n",
      "Trainable params: 3,457,802\n",
      "Non-trainable params: 64\n",
      "_________________________________________________________________\n"
     ]
    }
   ],
   "source": [
    "#create a new model \n",
    "model2 = keras.Sequential()\n",
    "\n",
    "#use conv2d, maxpooling2d, dropout and batchnormalization\n",
    "model2.add(Conv2D(32, (3, 3), activation='relu', input_shape=(150, 150, 3)))\n",
    "model2.add(MaxPooling2D((2, 2)))\n",
    "model2.add(Dropout(0.2))\n",
    "model2.add(keras.layers.BatchNormalization())\n",
    "\n",
    "model2.add(Conv2D(64, (3, 3), activation='relu'))\n",
    "model2.add(MaxPooling2D((2, 2)))\n",
    "model2.add(Dropout(0.2))\n",
    "\n",
    "model2.add(Conv2D(128, (3, 3), activation='relu'))\n",
    "model2.add(MaxPooling2D((2, 2)))\n",
    "model2.add(Dropout(0.2))\n",
    "\n",
    "model2.add(Conv2D(128, (3, 3), activation='relu'))\n",
    "model2.add(MaxPooling2D((2, 2)))\n",
    "model2.add(Dropout(0.2))\n",
    "\n",
    "model2.add(Flatten())\n",
    "model2.add(Dense(512, activation='relu'))\n",
    "model2.add(Dense(10, activation='softmax'))\n",
    "\n",
    "\n",
    "model2.summary()"
   ]
  },
  {
   "cell_type": "code",
   "execution_count": 11,
   "metadata": {},
   "outputs": [
    {
     "name": "stderr",
     "output_type": "stream",
     "text": [
      "/home/theshadow/.local/lib/python3.8/site-packages/keras/optimizers/optimizer_v2/adam.py:114: UserWarning: The `lr` argument is deprecated, use `learning_rate` instead.\n",
      "  super().__init__(name, **kwargs)\n"
     ]
    },
    {
     "name": "stdout",
     "output_type": "stream",
     "text": [
      "Epoch 1/100\n",
      "100/100 [==============================] - 5s 51ms/step - loss: 2.2814 - accuracy: 0.1753 - val_loss: 2.2809 - val_accuracy: 0.1416 - lr: 1.0000e-04\n",
      "Epoch 2/100\n",
      "100/100 [==============================] - 5s 48ms/step - loss: 2.0068 - accuracy: 0.2809 - val_loss: 2.2240 - val_accuracy: 0.2292 - lr: 1.0000e-04\n",
      "Epoch 3/100\n",
      "100/100 [==============================] - 5s 49ms/step - loss: 1.8319 - accuracy: 0.3478 - val_loss: 2.1692 - val_accuracy: 0.2160 - lr: 1.0000e-04\n",
      "Epoch 4/100\n",
      "100/100 [==============================] - 5s 49ms/step - loss: 1.7224 - accuracy: 0.3997 - val_loss: 2.0765 - val_accuracy: 0.2796 - lr: 1.0000e-04\n",
      "Epoch 5/100\n",
      "100/100 [==============================] - 5s 50ms/step - loss: 1.5922 - accuracy: 0.4437 - val_loss: 2.0373 - val_accuracy: 0.2689 - lr: 1.0000e-04\n",
      "Epoch 6/100\n",
      "100/100 [==============================] - 5s 49ms/step - loss: 1.4746 - accuracy: 0.4947 - val_loss: 2.1867 - val_accuracy: 0.2269 - lr: 1.0000e-04\n",
      "Epoch 7/100\n",
      "100/100 [==============================] - 5s 48ms/step - loss: 1.3571 - accuracy: 0.5272 - val_loss: 2.2433 - val_accuracy: 0.2343 - lr: 1.0000e-04\n",
      "Epoch 8/100\n",
      "100/100 [==============================] - 5s 49ms/step - loss: 1.2408 - accuracy: 0.5769 - val_loss: 2.4705 - val_accuracy: 0.2032 - lr: 1.0000e-04\n",
      "Epoch 9/100\n",
      " 99/100 [============================>.] - ETA: 0s - loss: 1.1642 - accuracy: 0.5947Restoring model weights from the end of the best epoch: 4.\n",
      "\n",
      "Epoch 9: ReduceLROnPlateau reducing learning rate to 4.999999873689376e-05.\n",
      "100/100 [==============================] - 5s 50ms/step - loss: 1.1611 - accuracy: 0.5962 - val_loss: 2.5242 - val_accuracy: 0.2244 - lr: 1.0000e-04\n",
      "Epoch 9: early stopping\n"
     ]
    }
   ],
   "source": [
    "model2.compile(loss='categorical_crossentropy', optimizer=keras.optimizers.Adam(lr=0.0001), metrics=['accuracy'])\n",
    "\n",
    "early_stopping = keras.callbacks.EarlyStopping(\n",
    "    monitor='val_accuracy',\n",
    "    min_delta=0.00005,\n",
    "    patience=5,\n",
    "    verbose=1,\n",
    "    restore_best_weights=True,\n",
    ")\n",
    "\n",
    "lr_scheduler = keras.callbacks.ReduceLROnPlateau(\n",
    "    monitor='val_accuracy',\n",
    "    factor=0.5,\n",
    "    patience=5,\n",
    "    min_lr=1e-7,\n",
    "    verbose=1,\n",
    ")\n",
    "\n",
    "\n",
    "callbacks = [\n",
    "    early_stopping,\n",
    "    lr_scheduler,\n",
    "]\n",
    "history2 = model2.fit(train_x, train_y, epochs=100, batch_size=32, validation_data=validation_generator, callbacks=callbacks, verbose=1)"
   ]
  },
  {
   "cell_type": "code",
   "execution_count": 9,
   "metadata": {},
   "outputs": [
    {
     "name": "stdout",
     "output_type": "stream",
     "text": [
      "25/25 [==============================] - 0s 7ms/step - loss: 1.6209 - accuracy: 0.4775\n",
      "[1.620904803276062, 0.47749999165534973]\n",
      "32/32 [==============================] - 0s 8ms/step - loss: 1.6258 - accuracy: 0.4940\n",
      "[1.6257696151733398, 0.49399998784065247]\n",
      "164/164 [==============================] - 3s 16ms/step - loss: 0.9385 - accuracy: 0.7047\n",
      "[0.9384831190109253, 0.704701840877533]\n"
     ]
    },
    {
     "data": {
      "image/png": "[encoded data removed]",
      "text/plain": [
       "<Figure size 640x480 with 1 Axes>"
      ]
     },
     "metadata": {},
     "output_type": "display_data"
    }
   ],
   "source": [
    "#compute the accuracy and loss\n",
    "print(model2.evaluate(val_x, val_y))\n",
    "print(model2.evaluate(test_x, test_y))\n",
    "print(model2.evaluate(validation_generator))\n",
    "\n",
    "#plot the accuracy and loss\n",
    "plt.plot(history2.history['accuracy'])\n",
    "\n",
    "plt.plot(history2.history['val_accuracy'])\n",
    "\n",
    "plt.title('model accuracy')\n",
    "\n",
    "plt.ylabel('accuracy')\n",
    "\n",
    "plt.xlabel('epoch')\n",
    "\n",
    "plt.legend(['train', 'test'], loc='upper left')\n",
    "\n",
    "plt.show()\n"
   ]
  }
 ],
 "metadata": {
  "kernelspec": {
   "display_name": "Python 3.8.10 64-bit",
   "language": "python",
   "name": "python3"
  },
  "language_info": {
   "codemirror_mode": {
    "name": "ipython",
    "version": 3
   },
   "file_extension": ".py",
   "mimetype": "text/x-python",
   "name": "python",
   "nbconvert_exporter": "python",
   "pygments_lexer": "ipython3",
   "version": "3.8.10"
  },
  "orig_nbformat": 4,
  "vscode": {
   "interpreter": {
    "hash": "916dbcbb3f70747c44a77c7bcd40155683ae19c65e1c03b4aa3499c5328201f1"
   }
  }
 },
 "nbformat": 4,
 "nbformat_minor": 2
}
